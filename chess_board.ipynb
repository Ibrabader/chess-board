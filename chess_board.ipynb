{
 "cells": [
  {
   "cell_type": "code",
   "execution_count": null,
   "metadata": {},
   "outputs": [],
   "source": [
    "import numpy as np \n",
    "import matplotlib as plt "
   ]
  },
  {
   "cell_type": "code",
   "execution_count": null,
   "metadata": {},
   "outputs": [],
   "source": [
    "class ChessBoard:\n",
    "   \n",
    "    def __init__(self):\n",
    "        self.board = np.ones([8,8,3])\n",
    "        for i in np.ndindex(8,8):\n",
    "            row = i[0]\n",
    "            col = i[1]\n",
    "\n",
    "            if row%2 != col%2:\n",
    "                self.board[row, col] = [0,0,0]\n",
    "            print(i, self.board[i])\n",
    "\n",
    "\n",
    "    def add_red(self,row,column):\n",
    "        pass\n",
    "    def add_blue(self,row,column):\n",
    "\n",
    "        pass \n",
    "    def render(self):\n",
    "        plt.imshow(self.board)\n",
    "        \n",
    "    def is_under_attack():\n",
    "        pass"
   ]
  },
  {
   "cell_type": "code",
   "execution_count": null,
   "metadata": {},
   "outputs": [],
   "source": [
    "print('hi')\n"
   ]
  },
  {
   "cell_type": "code",
   "execution_count": null,
   "metadata": {},
   "outputs": [],
   "source": []
  },
  {
   "cell_type": "code",
   "execution_count": null,
   "metadata": {},
   "outputs": [],
   "source": []
  }
 ],
 "metadata": {
  "interpreter": {
   "hash": "1f82f5046609138343a5430721676b4ec170d80e0a262a201ad28cc0f274e4d7"
  },
  "kernelspec": {
   "display_name": "Python 3.9.5 64-bit ('3.9.5': pyenv)",
   "language": "python",
   "name": "python3"
  },
  "language_info": {
   "name": "python",
   "version": "3.9.5"
  },
  "orig_nbformat": 4
 },
 "nbformat": 4,
 "nbformat_minor": 2
}
